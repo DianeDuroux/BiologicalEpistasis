{
 "cells": [
  {
   "cell_type": "code",
   "execution_count": 1,
   "metadata": {},
   "outputs": [
    {
     "name": "stderr",
     "output_type": "stream",
     "text": [
      "── \u001b[1mAttaching packages\u001b[22m ─────────────────────────────────────── tidyverse 1.3.0 ──\n",
      "\n",
      "\u001b[32m✔\u001b[39m \u001b[34mggplot2\u001b[39m 3.3.0     \u001b[32m✔\u001b[39m \u001b[34mpurrr  \u001b[39m 0.3.3\n",
      "\u001b[32m✔\u001b[39m \u001b[34mtibble \u001b[39m 2.1.3     \u001b[32m✔\u001b[39m \u001b[34mdplyr  \u001b[39m 0.8.4\n",
      "\u001b[32m✔\u001b[39m \u001b[34mtidyr  \u001b[39m 1.0.2     \u001b[32m✔\u001b[39m \u001b[34mstringr\u001b[39m 1.4.0\n",
      "\u001b[32m✔\u001b[39m \u001b[34mreadr  \u001b[39m 1.3.1     \u001b[32m✔\u001b[39m \u001b[34mforcats\u001b[39m 0.5.0\n",
      "\n",
      "── \u001b[1mConflicts\u001b[22m ────────────────────────────────────────── tidyverse_conflicts() ──\n",
      "\u001b[31m✖\u001b[39m \u001b[34mdplyr\u001b[39m::\u001b[32mfilter()\u001b[39m masks \u001b[34mstats\u001b[39m::filter()\n",
      "\u001b[31m✖\u001b[39m \u001b[34mdplyr\u001b[39m::\u001b[32mlag()\u001b[39m    masks \u001b[34mstats\u001b[39m::lag()\n",
      "\n"
     ]
    }
   ],
   "source": [
    "library(tidyverse)\n",
    "library(ggupset)\n",
    "\n",
    "rslt <- '../results/snp_models/'"
   ]
  },
  {
   "cell_type": "code",
   "execution_count": 2,
   "metadata": {},
   "outputs": [],
   "source": [
    "read_models <- function(x, method) {\n",
    "    read_delim(paste0(rslt, x), delim = ' ', col_types = 'cc') %>% \n",
    "        mutate(uniq_snp_id = cbind(SNP1, SNP2) %>% apply(1, sort) %>% apply(2, paste, collapse = \"_\"),\n",
    "               method = method) %>%\n",
    "        select(method, uniq_snp_id)\n",
    "}\n",
    "\n",
    "scientific_10 <- function(x) {\n",
    "  parse(text=gsub(\"e\", \" %*% 10^\", scales::scientific_format()(x)))\n",
    "}\n",
    "\n",
    "models_overlap <- bind_rows(read_models('physical.txt', 'Physical'),\n",
    "                            read_models('eqtl.txt', 'eQTL'),\n",
    "                            read_models('chromatin.txt', 'Chromatin'),\n",
    "                            read_models('eqlt_chrom.txt', 'eQTL + Chromatin'),\n",
    "                            read_models('eqtl_chrom_phys.txt', 'eQTL + Chromatin + Physical')) %>%\n",
    "    group_by(uniq_snp_id) %>%\n",
    "    summarize(methods = list(method)) %>%\n",
    "    ggplot(aes(x = methods)) +\n",
    "        geom_bar() +\n",
    "        labs(x = 'Protocols', y = '# SNP models') +\n",
    "        scale_x_upset() +\n",
    "        scale_y_log10(label=scientific_10)"
   ]
  },
  {
   "cell_type": "code",
   "execution_count": 3,
   "metadata": {},
   "outputs": [],
   "source": [
    "ggsave(models_overlap, filename = 'fig/models_comparison.pdf', width=10, height=8, bg = \"transparent\")"
   ]
  }
 ],
 "metadata": {
  "kernelspec": {
   "display_name": "R",
   "language": "R",
   "name": "ir"
  },
  "language_info": {
   "codemirror_mode": "r",
   "file_extension": ".r",
   "mimetype": "text/x-r-source",
   "name": "R",
   "pygments_lexer": "r",
   "version": "3.6.2"
  }
 },
 "nbformat": 4,
 "nbformat_minor": 4
}
